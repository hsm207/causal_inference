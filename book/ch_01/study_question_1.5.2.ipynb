{
 "cells": [
  {
   "cell_type": "markdown",
   "metadata": {},
   "source": [
    "# Libraries"
   ]
  },
  {
   "cell_type": "code",
   "execution_count": 1,
   "metadata": {},
   "outputs": [
    {
     "name": "stderr",
     "output_type": "stream",
     "text": [
      "── \u001b[1mAttaching packages\u001b[22m ────────────────────────────────────────────────────────────────────────────────────────────────────────────────────────────────────────────────────────── tidyverse 1.3.0 ──\n",
      "\n",
      "\u001b[32m✔\u001b[39m \u001b[34mggplot2\u001b[39m 3.3.2     \u001b[32m✔\u001b[39m \u001b[34mpurrr  \u001b[39m 0.3.4\n",
      "\u001b[32m✔\u001b[39m \u001b[34mtibble \u001b[39m 3.0.4     \u001b[32m✔\u001b[39m \u001b[34mdplyr  \u001b[39m 1.0.2\n",
      "\u001b[32m✔\u001b[39m \u001b[34mtidyr  \u001b[39m 1.1.2     \u001b[32m✔\u001b[39m \u001b[34mstringr\u001b[39m 1.4.0\n",
      "\u001b[32m✔\u001b[39m \u001b[34mreadr  \u001b[39m 1.4.0     \u001b[32m✔\u001b[39m \u001b[34mforcats\u001b[39m 0.5.0\n",
      "\n",
      "── \u001b[1mConflicts\u001b[22m ───────────────────────────────────────────────────────────────────────────────────────────────────────────────────────────────────────────────────────────── tidyverse_conflicts() ──\n",
      "\u001b[31m✖\u001b[39m \u001b[34mdplyr\u001b[39m::\u001b[32mfilter()\u001b[39m masks \u001b[34mstats\u001b[39m::filter()\n",
      "\u001b[31m✖\u001b[39m \u001b[34mdplyr\u001b[39m::\u001b[32mlag()\u001b[39m    masks \u001b[34mstats\u001b[39m::lag()\n",
      "\n"
     ]
    }
   ],
   "source": [
    "library(dagitty)\n",
    "library(tidyverse)"
   ]
  },
  {
   "cell_type": "markdown",
   "metadata": {},
   "source": [
    "# Question"
   ]
  },
  {
   "cell_type": "markdown",
   "metadata": {},
   "source": [
    "<img src=\"https://i.ibb.co/QMtj154/q-1-5-2.png\" alt=\"q-1-5-2\" border=\"0\">"
   ]
  },
  {
   "cell_type": "markdown",
   "metadata": {},
   "source": [
    "# Solution"
   ]
  },
  {
   "cell_type": "markdown",
   "metadata": {},
   "source": [
    "## (a)"
   ]
  },
  {
   "cell_type": "markdown",
   "metadata": {},
   "source": [
    "Draw the DAG:"
   ]
  },
  {
   "cell_type": "code",
   "execution_count": 2,
   "metadata": {},
   "outputs": [
    {
     "name": "stderr",
     "output_type": "stream",
     "text": [
      "Plot coordinates for graph not supplied! Generating coordinates, see ?coordinates for how to set your own.\n",
      "\n"
     ]
    },
    {
     "data": {
      "image/png": "[encoded data removed]",
      "text/plain": [
       "plot without title"
      ]
     },
     "metadata": {
      "image/png": {
       "height": 420,
       "width": 420
      }
     },
     "output_type": "display_data"
    }
   ],
   "source": [
    "g = dagitty('dag {\n",
    "    Z -> X; Z -> Y\n",
    "    X -> Y\n",
    "}')\n",
    "\n",
    "plot(g)"
   ]
  },
  {
   "cell_type": "markdown",
   "metadata": {},
   "source": [
    "Definition of the Product Rule Decomposition:"
   ]
  },
  {
   "cell_type": "markdown",
   "metadata": {},
   "source": [
    "<img src=\"https://i.ibb.co/WPqBT5f/product-rule-decomposition.png\" alt=\"product-rule-decomposition\" border=\"0\">"
   ]
  },
  {
   "cell_type": "markdown",
   "metadata": {},
   "source": [
    "So, to get the joint distribution of the DAG:"
   ]
  },
  {
   "cell_type": "code",
   "execution_count": 3,
   "metadata": {},
   "outputs": [
    {
     "name": "stdout",
     "output_type": "stream",
     "text": [
      "The parents of node X: Z\n",
      "The parents of node Y: c(\"X\", \"Z\")\n",
      "The parents of node Z: character(0)\n"
     ]
    }
   ],
   "source": [
    "parent_x <- parents(g, \"X\")\n",
    "parent_y <- parents(g, \"Y\")\n",
    "parent_z <- parents(g, \"Z\")\n",
    "\n",
    "str_interp(\"The parents of node X: ${parent_x}\\n\") %>% cat\n",
    "str_interp(\"The parents of node Y: ${parent_y}\\n\") %>% cat\n",
    "str_interp(\"The parents of node Z: ${parent_z}\\n\") %>% cat"
   ]
  },
  {
   "cell_type": "markdown",
   "metadata": {},
   "source": [
    "Therefore, the **joint distribution** of the DAG, P(X, Y, Z) is:\n",
    "\n",
    "\n",
    "$$P(X|Z) . P(Y|X,Z) . P(Z)$$\n",
    "\n",
    "Note that Z has no parents."
   ]
  },
  {
   "cell_type": "markdown",
   "metadata": {},
   "source": [
    "Using marginalization:\n",
    "\n",
    "To find **P(X, Y)**:"
   ]
  },
  {
   "cell_type": "markdown",
   "metadata": {},
   "source": [
    "\\begin{align}\n",
    "P(X,Y) & =  P(X,Y)\\cap P(Z=z_{0})  +  P(X,Y)\\cap P(Z=z_{1}) \\\\\n",
    " & =  P(X,Y,Z=z_{0})   +    P(X,Y,Z=z_{1}) \\\\\n",
    " & =  P(X,Z=z_{0})\\,P(Y|X,Z=z_{0})\\,P(Z=z_{0}) +   P(X,Z=z_{1})\\,P(Y|X,Z=z_{1})\\,P(Z=z_{1})\n",
    "\\end{align}\n"
   ]
  },
  {
   "cell_type": "markdown",
   "metadata": {},
   "source": [
    "To find **P(X, Z)**:"
   ]
  },
  {
   "cell_type": "markdown",
   "metadata": {},
   "source": [
    "\\begin{align}\n",
    "P(X,Z) & =  P(X,Z)\\cap P(Y=y_{0})  +  P(X,Z)\\cap P(Y=y_{1}) \\\\\n",
    " & =  P(X,Y=y_{0}, Z)   +    P(X,Y=y_{1}, Z) \\\\\n",
    " & =  P(X,Z)\\,P(Y = y_0|X,Z)\\,P(Z) +   P(X,Z)\\,P(Y=y_1|X,Z)\\,P(Z)\n",
    "\\end{align}"
   ]
  },
  {
   "cell_type": "markdown",
   "metadata": {},
   "source": [
    "To find **P(Y, Z)**:"
   ]
  },
  {
   "cell_type": "markdown",
   "metadata": {},
   "source": [
    "\\begin{align}\n",
    "P(Y,Z) & =  P(Y,Z)\\cap P(X=x_{0})  +  P(Y,Z)\\cap P(X=x_{1}) \\\\\n",
    " & =  P(X=x_0,Y,Z)   +    P(X=x_1,Y,Z) \\\\\n",
    " & =  P(X=x_0,Z)\\,P(Y|X=x_1,Z)\\,P(Z=z_{0}) +   P(X=x_1,Z)\\,P(Y|X=x_1,Z)\\,P(Z)\n",
    "\\end{align}\n"
   ]
  },
  {
   "cell_type": "markdown",
   "metadata": {},
   "source": [
    "We are given/we know:\n",
    "\n",
    "* $P(Z=z_1) = r$\n",
    "* $P(Z=z_0) = 1 - r$\n",
    "* $P(Y=y_1|X=x_1, Z=z_0) = p_2$\n",
    "* $P(Y=y_0|X=x_1, Z=z_0) = 1-p_2$\n",
    "* $P(Y=y_1|X=x_0, Z=z_0) = p_1$\n",
    "* $P(Y=y_0|X=x_0, Z=z_0) = 1 - p_1$\n",
    "* $P(Y=y_1|X=x_0, Z=z_1) = p_3$\n",
    "* $P(Y=y_0|X=x_0, Z=z_1) = 1 - p_3$\n",
    "* $P(Y=y_1|X=x_1, Z=z_1) = p_4$\n",
    "* $P(Y=y_0|X=x_1, Z=z_1) = 1 - p_4$\n",
    "* $P(X=x_1|Z=z_0) = q_1$\n",
    "* $P(X=x_0|Z=z_0) = 1 - q_1$\n",
    "* $P(X=x_1|Z=z_1) = q_2$\n",
    "* $P(X=x_0|Z=z_1) = 1 - q_2$\n"
   ]
  },
  {
   "cell_type": "markdown",
   "metadata": {},
   "source": [
    "Table for $P(X, Y, Z)$:"
   ]
  },
  {
   "cell_type": "markdown",
   "metadata": {},
   "source": [
    "<img src=\"https://i.ibb.co/8NdF0G0/q-1-5-2-joint-dist.png\" alt=\"q-1-5-2-joint-dist\" border=\"0\">"
   ]
  },
  {
   "cell_type": "markdown",
   "metadata": {},
   "source": [
    "Table for $P(X, Y)$:\n",
    "\n",
    "\n",
    "<img src=\"https://i.ibb.co/VS3VBJ7/q-1-5-2-pxy.png\" alt=\"q-1-5-2-pxy\" border=\"0\">"
   ]
  },
  {
   "cell_type": "markdown",
   "metadata": {},
   "source": [
    "Table for $P(X, Z)$:\n",
    "\n",
    "<img src=\"https://i.ibb.co/TL8vRcP/q-1-5-2-pxz.png\" alt=\"q-1-5-2-pxz\" border=\"0\">"
   ]
  },
  {
   "cell_type": "markdown",
   "metadata": {},
   "source": [
    "Table for $P(Y, Z)$:\n",
    "\n",
    "<img src=\"https://i.ibb.co/kQKn7zD/q-1-5-2-pyz.png\" alt=\"q-1-5-2-pyz\" border=\"0\">"
   ]
  },
  {
   "cell_type": "markdown",
   "metadata": {},
   "source": [
    "## (b)"
   ]
  },
  {
   "cell_type": "markdown",
   "metadata": {},
   "source": [
    "### (i) $P(y_1|x_1) - P(y_1|x_0)$ for people with $z_1$"
   ]
  },
  {
   "cell_type": "markdown",
   "metadata": {},
   "source": [
    "\\begin{align}\n",
    "P(y_1|x_1,z_1) - P(y_1|x_0,z_1) & = \\frac{P(y_1,x_1,z_1)}{P(x_1, z_1)} - \\frac{P(y_1, x_0, z_1)}{P(x_0, z_1)} & , \\text{by definition of conditional probability} \\\\\n",
    "                                & = \\frac{q_2\\cdot p_4 \\cdot r}{q_2 \\cdot (1-p_4) \\cdot r + q_2 \\cdot p_4 \\cdot r} - \\frac{(1-q_2) \\cdot p_3 \\cdot r}{(1-q_2)\\cdot(1-p_3)\\cdot r + (1-q_2)\\cdot p_3\\cdot r} & , \\text{lookup probability tables}\\\\\n",
    "                                & = p_4 - p_3\n",
    "\\end{align}"
   ]
  },
  {
   "cell_type": "markdown",
   "metadata": {},
   "source": [
    "### (ii) $P(y_1|x_1) - P(y_1|x_0)$ for people with $z_0$"
   ]
  },
  {
   "cell_type": "markdown",
   "metadata": {},
   "source": [
    "\\begin{align}\n",
    "P(y_1|x_1,z_0) - P(y_1|x_0, z_0) & = p_2 - p_1 &\\, , \\text{from given information}\n",
    "\\end{align}"
   ]
  },
  {
   "cell_type": "markdown",
   "metadata": {},
   "source": [
    "### (iii) $P(y_1|x_1) - P(y_1|x_0)$ for entire population"
   ]
  },
  {
   "cell_type": "markdown",
   "metadata": {},
   "source": [
    "\\begin{align}\n",
    "P(y_1|x_1) - P(y_1|x_0) & = \\frac{P(y_1, x_1)}{P(x_1)} & -  & \\frac{P(y_1, x_0)}{P(x_0)} &, \\text{defn. of conditional probability} \\\\\n",
    "& = \\frac{q_1 \\cdot p_2 \\cdot (1-r) + q_2 \\cdot p_4 \\cdot r}{(q_1 \\cdot (1-p_2) \\cdot (1-r) + q_2 \\cdot (1-p_4) \\cdot r) + (q_1 \\cdot p_2 \\cdot (1-r) + q_2 \\cdot p_4 \\cdot r)} & -  &  \\frac{(1-q_1)\\cdot p_1 \\cdot (1-r) + (1-q_2) \\cdot p_3 \\cdot r}{((1-q_1)\\cdot (1-p_1) \\cdot (1-r) + (1-q_2) \\cdot (1-p_3) \\cdot r)+((1-q_1)\\cdot p_1 \\cdot (1-r) + (1-q_2) \\cdot p_3 \\cdot r)} &, \\text{using lookup table and marginalisation} \\\\\n",
    "& = \\frac{q_1 \\cdot p_2 \\cdot (1-r) + q_2 \\cdot p_4 \\cdot r}{-q_1\\cdot r + q_2 \\cdot r + q_1}  - \\frac{(1-q_1)\\cdot p_1 \\cdot (1-r) + (1-q_2) \\cdot p_3 \\cdot r}{q_1 \\cdot r - q_2 \\cdot r - q_1 + 1}\n",
    "\\end{align}"
   ]
  },
  {
   "cell_type": "markdown",
   "metadata": {},
   "source": [
    "### (c)"
   ]
  },
  {
   "cell_type": "markdown",
   "metadata": {},
   "source": [
    "Click [here](https://en.wikipedia.org/wiki/Simpson%27s_paradox) for definition of Simpons's reversal.\n",
    "\n",
    "Let's pick the parameters such that whole population shows improvement in treatment i.e. **b (iii)** > 0 but sub-population shows degradation i.e. **b(i)** and **b(ii)** < 0.\n",
    "\n",
    "See [this](study_question_1.5.2_part_c_opt.ipynb) notebook for how to get the parameters."
   ]
  },
  {
   "cell_type": "code",
   "execution_count": 4,
   "metadata": {},
   "outputs": [],
   "source": [
    "b1 <- function(p3, p4) p4 - p3\n",
    "b2 <- function(p1, p2)  p2 - p1\n",
    "\n",
    "b3 <- function(p1, p2, p3, p4, q1, q2, r) {\n",
    "    term1 <- (q1 * p2 * (1-r) + q2 * p4 * r)/(-q1 * r + q2 * r + q1)\n",
    "    term2 <- ((1 - q1) * p1 * (1-r) + (1-q2) * p3 * r)/(q1 * r - q2 * r - q1 + 1)\n",
    "    \n",
    "    term1 - term2\n",
    "}"
   ]
  },
  {
   "cell_type": "markdown",
   "metadata": {},
   "source": [
    "Set 1:"
   ]
  },
  {
   "cell_type": "code",
   "execution_count": 5,
   "metadata": {},
   "outputs": [
    {
     "name": "stdout",
     "output_type": "stream",
     "text": [
      "value of b(i): 0\n",
      "value of b(ii): 0\n",
      "value of b(iii): 1\n"
     ]
    }
   ],
   "source": [
    "p1 <- 1.0\n",
    "p2 <- 1.0\n",
    "p3 <- 0\n",
    "p4 <- 0\n",
    "q1 <- 1\n",
    "q2 <- 0\n",
    "r <- 0.6447425918411859\n",
    "\n",
    "cat(str_interp(\"value of b(i): ${b1(p3, p4)}\\n\"))\n",
    "cat(str_interp(\"value of b(ii): ${b2(p1, p2)}\\n\"))\n",
    "cat(str_interp(\"value of b(iii): ${b3(p1, p2, p3, p4, q1, q2, r)}\\n\"))"
   ]
  },
  {
   "cell_type": "markdown",
   "metadata": {},
   "source": [
    "Set 2:"
   ]
  },
  {
   "cell_type": "code",
   "execution_count": 6,
   "metadata": {},
   "outputs": [
    {
     "name": "stdout",
     "output_type": "stream",
     "text": [
      "value of b(i): -0.1\n",
      "value of b(ii): -0.1\n",
      "value of b(iii): 0.8\n"
     ]
    }
   ],
   "source": [
    "p1 <- 1.0\n",
    "p2 <- 0.90\n",
    "p3 <- 0.10\n",
    "p4 <- 0.0\n",
    "q1 <- 1\n",
    "q2 <- 0\n",
    "r <- 0.10\n",
    "\n",
    "cat(str_interp(\"value of b(i): ${b1(p3, p4)}\\n\"))\n",
    "cat(str_interp(\"value of b(ii): ${b2(p1, p2)}\\n\"))\n",
    "cat(str_interp(\"value of b(iii): ${b3(p1, p2, p3, p4, q1, q2, r)}\\n\"))"
   ]
  },
  {
   "cell_type": "markdown",
   "metadata": {},
   "source": [
    "No unique solution?"
   ]
  }
 ],
 "metadata": {
  "kernelspec": {
   "display_name": "R",
   "language": "R",
   "name": "ir"
  },
  "language_info": {
   "codemirror_mode": "r",
   "file_extension": ".r",
   "mimetype": "text/x-r-source",
   "name": "R",
   "pygments_lexer": "r",
   "version": "3.6.3"
  }
 },
 "nbformat": 4,
 "nbformat_minor": 4
}
