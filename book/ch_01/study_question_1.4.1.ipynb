{
 "cells": [
  {
   "cell_type": "markdown",
   "metadata": {},
   "source": [
    "# Libraries"
   ]
  },
  {
   "cell_type": "code",
   "execution_count": 1,
   "metadata": {},
   "outputs": [
    {
     "name": "stderr",
     "output_type": "stream",
     "text": [
      "── \u001b[1mAttaching packages\u001b[22m ────────────────────────────────────────────────────────────────────────────────────────────────────────────────────────────────────────────────────────── tidyverse 1.3.0 ──\n",
      "\n",
      "\u001b[32m✔\u001b[39m \u001b[34mggplot2\u001b[39m 3.3.2     \u001b[32m✔\u001b[39m \u001b[34mpurrr  \u001b[39m 0.3.4\n",
      "\u001b[32m✔\u001b[39m \u001b[34mtibble \u001b[39m 3.0.4     \u001b[32m✔\u001b[39m \u001b[34mdplyr  \u001b[39m 1.0.2\n",
      "\u001b[32m✔\u001b[39m \u001b[34mtidyr  \u001b[39m 1.1.2     \u001b[32m✔\u001b[39m \u001b[34mstringr\u001b[39m 1.4.0\n",
      "\u001b[32m✔\u001b[39m \u001b[34mreadr  \u001b[39m 1.4.0     \u001b[32m✔\u001b[39m \u001b[34mforcats\u001b[39m 0.5.0\n",
      "\n",
      "── \u001b[1mConflicts\u001b[22m ───────────────────────────────────────────────────────────────────────────────────────────────────────────────────────────────────────────────────────────── tidyverse_conflicts() ──\n",
      "\u001b[31m✖\u001b[39m \u001b[34mdplyr\u001b[39m::\u001b[32mfilter()\u001b[39m masks \u001b[34mstats\u001b[39m::filter()\n",
      "\u001b[31m✖\u001b[39m \u001b[34mdplyr\u001b[39m::\u001b[32mlag()\u001b[39m    masks \u001b[34mstats\u001b[39m::lag()\n",
      "\n"
     ]
    }
   ],
   "source": [
    "library(dagitty)\n",
    "library(tidyverse)"
   ]
  },
  {
   "cell_type": "markdown",
   "metadata": {},
   "source": [
    "# Question"
   ]
  },
  {
   "cell_type": "markdown",
   "metadata": {},
   "source": [
    "<img src=\"https://i.ibb.co/r4d8hmg/q-1-4-1.png\" alt=\"q-1-4-1\" border=\"0\">"
   ]
  },
  {
   "cell_type": "markdown",
   "metadata": {},
   "source": [
    "# Answer"
   ]
  },
  {
   "cell_type": "code",
   "execution_count": 2,
   "metadata": {},
   "outputs": [
    {
     "name": "stderr",
     "output_type": "stream",
     "text": [
      "Plot coordinates for graph not supplied! Generating coordinates, see ?coordinates for how to set your own.\n",
      "\n"
     ]
    },
    {
     "data": {
      "image/png": "[encoded data removed]",
      "text/plain": [
       "plot without title"
      ]
     },
     "metadata": {
      "image/png": {
       "height": 420,
       "width": 420
      }
     },
     "output_type": "display_data"
    }
   ],
   "source": [
    "g <- dagitty('dag{\n",
    "\n",
    "X -> W -> Z -> T\n",
    "X -> W -> Y -> Z -> T\n",
    "X -> W -> Y -> T\n",
    "X -> Y -> T\n",
    "\n",
    "}')\n",
    "\n",
    "plot(g)"
   ]
  },
  {
   "cell_type": "markdown",
   "metadata": {},
   "source": [
    "## (a)"
   ]
  },
  {
   "cell_type": "code",
   "execution_count": 3,
   "metadata": {},
   "outputs": [
    {
     "data": {
      "text/html": [
       "<style>\n",
       ".list-inline {list-style: none; margin:0; padding: 0}\n",
       ".list-inline>li {display: inline-block}\n",
       ".list-inline>li:not(:last-child)::after {content: \"\\00b7\"; padding: 0 .5ex}\n",
       "</style>\n",
       "<ol class=list-inline><li>'W'</li><li>'Y'</li></ol>\n"
      ],
      "text/latex": [
       "\\begin{enumerate*}\n",
       "\\item 'W'\n",
       "\\item 'Y'\n",
       "\\end{enumerate*}\n"
      ],
      "text/markdown": [
       "1. 'W'\n",
       "2. 'Y'\n",
       "\n",
       "\n"
      ],
      "text/plain": [
       "[1] \"W\" \"Y\""
      ]
     },
     "metadata": {},
     "output_type": "display_data"
    }
   ],
   "source": [
    "parents(g, \"Z\")"
   ]
  },
  {
   "cell_type": "markdown",
   "metadata": {},
   "source": [
    "## (b)"
   ]
  },
  {
   "cell_type": "code",
   "execution_count": 4,
   "metadata": {},
   "outputs": [
    {
     "data": {
      "text/html": [
       "<style>\n",
       ".list-inline {list-style: none; margin:0; padding: 0}\n",
       ".list-inline>li {display: inline-block}\n",
       ".list-inline>li:not(:last-child)::after {content: \"\\00b7\"; padding: 0 .5ex}\n",
       "</style>\n",
       "<ol class=list-inline><li>'Z'</li><li>'Y'</li><li>'X'</li><li>'W'</li></ol>\n"
      ],
      "text/latex": [
       "\\begin{enumerate*}\n",
       "\\item 'Z'\n",
       "\\item 'Y'\n",
       "\\item 'X'\n",
       "\\item 'W'\n",
       "\\end{enumerate*}\n"
      ],
      "text/markdown": [
       "1. 'Z'\n",
       "2. 'Y'\n",
       "3. 'X'\n",
       "4. 'W'\n",
       "\n",
       "\n"
      ],
      "text/plain": [
       "[1] \"Z\" \"Y\" \"X\" \"W\""
      ]
     },
     "metadata": {},
     "output_type": "display_data"
    }
   ],
   "source": [
    "ancestors(g, \"Z\")"
   ]
  },
  {
   "cell_type": "markdown",
   "metadata": {},
   "source": [
    "## (c)"
   ]
  },
  {
   "cell_type": "code",
   "execution_count": 5,
   "metadata": {},
   "outputs": [
    {
     "data": {
      "text/html": [
       "<style>\n",
       ".list-inline {list-style: none; margin:0; padding: 0}\n",
       ".list-inline>li {display: inline-block}\n",
       ".list-inline>li:not(:last-child)::after {content: \"\\00b7\"; padding: 0 .5ex}\n",
       "</style>\n",
       "<ol class=list-inline><li>'Y'</li><li>'Z'</li></ol>\n"
      ],
      "text/latex": [
       "\\begin{enumerate*}\n",
       "\\item 'Y'\n",
       "\\item 'Z'\n",
       "\\end{enumerate*}\n"
      ],
      "text/markdown": [
       "1. 'Y'\n",
       "2. 'Z'\n",
       "\n",
       "\n"
      ],
      "text/plain": [
       "[1] \"Y\" \"Z\""
      ]
     },
     "metadata": {},
     "output_type": "display_data"
    }
   ],
   "source": [
    "children(g, \"W\")"
   ]
  },
  {
   "cell_type": "markdown",
   "metadata": {},
   "source": [
    "## (d)"
   ]
  },
  {
   "cell_type": "code",
   "execution_count": 6,
   "metadata": {},
   "outputs": [
    {
     "data": {
      "text/html": [
       "<style>\n",
       ".list-inline {list-style: none; margin:0; padding: 0}\n",
       ".list-inline>li {display: inline-block}\n",
       ".list-inline>li:not(:last-child)::after {content: \"\\00b7\"; padding: 0 .5ex}\n",
       "</style>\n",
       "<ol class=list-inline><li>'W'</li><li>'Z'</li><li>'T'</li><li>'Y'</li></ol>\n"
      ],
      "text/latex": [
       "\\begin{enumerate*}\n",
       "\\item 'W'\n",
       "\\item 'Z'\n",
       "\\item 'T'\n",
       "\\item 'Y'\n",
       "\\end{enumerate*}\n"
      ],
      "text/markdown": [
       "1. 'W'\n",
       "2. 'Z'\n",
       "3. 'T'\n",
       "4. 'Y'\n",
       "\n",
       "\n"
      ],
      "text/plain": [
       "[1] \"W\" \"Z\" \"T\" \"Y\""
      ]
     },
     "metadata": {},
     "output_type": "display_data"
    }
   ],
   "source": [
    "descendants(g, \"W\")"
   ]
  },
  {
   "cell_type": "markdown",
   "metadata": {},
   "source": [
    "## (e)"
   ]
  },
  {
   "cell_type": "code",
   "execution_count": 7,
   "metadata": {},
   "outputs": [
    {
     "data": {
      "text/html": [
       "<style>\n",
       ".list-inline {list-style: none; margin:0; padding: 0}\n",
       ".list-inline>li {display: inline-block}\n",
       ".list-inline>li:not(:last-child)::after {content: \"\\00b7\"; padding: 0 .5ex}\n",
       "</style>\n",
       "<ol class=list-inline><li>'X -&gt; W -&gt; Y -&gt; T'</li><li>'X -&gt; W -&gt; Y -&gt; Z -&gt; T'</li><li>'X -&gt; W -&gt; Z -&gt; T'</li><li>'X -&gt; W -&gt; Z &lt;- Y -&gt; T'</li><li>'X -&gt; Y -&gt; T'</li><li>'X -&gt; Y -&gt; Z -&gt; T'</li><li>'X -&gt; Y &lt;- W -&gt; Z -&gt; T'</li></ol>\n"
      ],
      "text/latex": [
       "\\begin{enumerate*}\n",
       "\\item 'X -> W -> Y -> T'\n",
       "\\item 'X -> W -> Y -> Z -> T'\n",
       "\\item 'X -> W -> Z -> T'\n",
       "\\item 'X -> W -> Z <- Y -> T'\n",
       "\\item 'X -> Y -> T'\n",
       "\\item 'X -> Y -> Z -> T'\n",
       "\\item 'X -> Y <- W -> Z -> T'\n",
       "\\end{enumerate*}\n"
      ],
      "text/markdown": [
       "1. 'X -&gt; W -&gt; Y -&gt; T'\n",
       "2. 'X -&gt; W -&gt; Y -&gt; Z -&gt; T'\n",
       "3. 'X -&gt; W -&gt; Z -&gt; T'\n",
       "4. 'X -&gt; W -&gt; Z &lt;- Y -&gt; T'\n",
       "5. 'X -&gt; Y -&gt; T'\n",
       "6. 'X -&gt; Y -&gt; Z -&gt; T'\n",
       "7. 'X -&gt; Y &lt;- W -&gt; Z -&gt; T'\n",
       "\n",
       "\n"
      ],
      "text/plain": [
       "[1] \"X -> W -> Y -> T\"      \"X -> W -> Y -> Z -> T\" \"X -> W -> Z -> T\"     \n",
       "[4] \"X -> W -> Z <- Y -> T\" \"X -> Y -> T\"           \"X -> Y -> Z -> T\"     \n",
       "[7] \"X -> Y <- W -> Z -> T\""
      ]
     },
     "metadata": {},
     "output_type": "display_data"
    }
   ],
   "source": [
    "paths(g, \"X\", \"T\") %>%\n",
    "    pluck(\"paths\")"
   ]
  },
  {
   "cell_type": "markdown",
   "metadata": {},
   "source": [
    "'X -> W -> Z <- Y -> T' is not a directed path!"
   ]
  },
  {
   "cell_type": "markdown",
   "metadata": {},
   "source": [
    "## (f)"
   ]
  },
  {
   "cell_type": "code",
   "execution_count": 8,
   "metadata": {},
   "outputs": [
    {
     "data": {
      "text/html": [
       "<style>\n",
       ".list-inline {list-style: none; margin:0; padding: 0}\n",
       ".list-inline>li {display: inline-block}\n",
       ".list-inline>li:not(:last-child)::after {content: \"\\00b7\"; padding: 0 .5ex}\n",
       "</style>\n",
       "<ol class=list-inline><li>'X -&gt; W -&gt; Y -&gt; T'</li><li>'X -&gt; W -&gt; Y -&gt; Z -&gt; T'</li><li>'X -&gt; W -&gt; Z -&gt; T'</li><li>'X -&gt; Y -&gt; T'</li><li>'X -&gt; Y -&gt; Z -&gt; T'</li></ol>\n"
      ],
      "text/latex": [
       "\\begin{enumerate*}\n",
       "\\item 'X -> W -> Y -> T'\n",
       "\\item 'X -> W -> Y -> Z -> T'\n",
       "\\item 'X -> W -> Z -> T'\n",
       "\\item 'X -> Y -> T'\n",
       "\\item 'X -> Y -> Z -> T'\n",
       "\\end{enumerate*}\n"
      ],
      "text/markdown": [
       "1. 'X -&gt; W -&gt; Y -&gt; T'\n",
       "2. 'X -&gt; W -&gt; Y -&gt; Z -&gt; T'\n",
       "3. 'X -&gt; W -&gt; Z -&gt; T'\n",
       "4. 'X -&gt; Y -&gt; T'\n",
       "5. 'X -&gt; Y -&gt; Z -&gt; T'\n",
       "\n",
       "\n"
      ],
      "text/plain": [
       "[1] \"X -> W -> Y -> T\"      \"X -> W -> Y -> Z -> T\" \"X -> W -> Z -> T\"     \n",
       "[4] \"X -> Y -> T\"           \"X -> Y -> Z -> T\"     "
      ]
     },
     "metadata": {},
     "output_type": "display_data"
    }
   ],
   "source": [
    "paths( g, \"X\", \"T\", directed=TRUE ) %>%\n",
    "    pluck(\"paths\")"
   ]
  }
 ],
 "metadata": {
  "kernelspec": {
   "display_name": "R",
   "language": "R",
   "name": "ir"
  },
  "language_info": {
   "codemirror_mode": "r",
   "file_extension": ".r",
   "mimetype": "text/x-r-source",
   "name": "R",
   "pygments_lexer": "r",
   "version": "3.6.3"
  }
 },
 "nbformat": 4,
 "nbformat_minor": 4
}
