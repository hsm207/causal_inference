{
 "cells": [
  {
   "cell_type": "markdown",
   "metadata": {},
   "source": [
    "# Packages"
   ]
  },
  {
   "cell_type": "code",
   "execution_count": 2,
   "metadata": {},
   "outputs": [
    {
     "name": "stderr",
     "output_type": "stream",
     "text": [
      "┌ Info: Precompiling DataFrames [a93c6f00-e57d-5684-b7b6-d8193f3e46c0]\n",
      "└ @ Base loading.jl:1278\n",
      "┌ Warning: The call to compilecache failed to create a usable precompiled cache file for DataFrames [a93c6f00-e57d-5684-b7b6-d8193f3e46c0]\n",
      "│   exception = ErrorException(\"Required dependency SortingAlgorithms [a2af1166-a08f-5f64-846c-94a0d3cef48c] failed to load from a cache file.\")\n",
      "└ @ Base loading.jl:1042\n",
      "┌ Info: Precompiling SortingAlgorithms [a2af1166-a08f-5f64-846c-94a0d3cef48c]\n",
      "└ @ Base loading.jl:1278\n",
      "┌ Info: Precompiling Query [1a8c2f83-1ff3-5112-b086-8aa67b057ba1]\n",
      "└ @ Base loading.jl:1278\n"
     ]
    }
   ],
   "source": [
    "using DataFrames, Query"
   ]
  },
  {
   "cell_type": "markdown",
   "metadata": {},
   "source": [
    "# Question"
   ]
  },
  {
   "cell_type": "markdown",
   "metadata": {},
   "source": [
    "<img src=\"https://i.ibb.co/PQYZZLW/question.png\" alt=\"question\" border=\"0\">\n",
    "<img src=\"https://i.ibb.co/r0Rh1QS/table-1-5.png\" alt=\"table-1-5\" border=\"0\">"
   ]
  },
  {
   "cell_type": "markdown",
   "metadata": {},
   "source": [
    "# Solution"
   ]
  },
  {
   "cell_type": "code",
   "execution_count": 6,
   "metadata": {},
   "outputs": [
    {
     "data": {
      "text/html": [
       "<table class=\"data-frame\"><thead><tr><th></th><th>gender</th><th>high_ed</th><th>freq</th></tr><tr><th></th><th>String</th><th>String</th><th>Int64</th></tr></thead><tbody><p>5 rows × 3 columns</p><tr><th>1</th><td>Male</td><td>Never finished high school</td><td>112</td></tr><tr><th>2</th><td>Male</td><td>High school</td><td>231</td></tr><tr><th>3</th><td>Male</td><td>College</td><td>595</td></tr><tr><th>4</th><td>Male</td><td>Graduate school</td><td>242</td></tr><tr><th>5</th><td>Female</td><td>Never finished high school</td><td>136</td></tr></tbody></table>"
      ],
      "text/latex": [
       "\\begin{tabular}{r|ccc}\n",
       "\t& gender & high\\_ed & freq\\\\\n",
       "\t\\hline\n",
       "\t& String & String & Int64\\\\\n",
       "\t\\hline\n",
       "\t1 & Male & Never finished high school & 112 \\\\\n",
       "\t2 & Male & High school & 231 \\\\\n",
       "\t3 & Male & College & 595 \\\\\n",
       "\t4 & Male & Graduate school & 242 \\\\\n",
       "\t5 & Female & Never finished high school & 136 \\\\\n",
       "\\end{tabular}\n"
      ],
      "text/plain": [
       "5×3 DataFrame\n",
       "│ Row │ gender │ high_ed                    │ freq  │\n",
       "│     │ \u001b[90mString\u001b[39m │ \u001b[90mString\u001b[39m                     │ \u001b[90mInt64\u001b[39m │\n",
       "├─────┼────────┼────────────────────────────┼───────┤\n",
       "│ 1   │ Male   │ Never finished high school │ 112   │\n",
       "│ 2   │ Male   │ High school                │ 231   │\n",
       "│ 3   │ Male   │ College                    │ 595   │\n",
       "│ 4   │ Male   │ Graduate school            │ 242   │\n",
       "│ 5   │ Female │ Never finished high school │ 136   │"
      ]
     },
     "execution_count": 6,
     "metadata": {},
     "output_type": "execute_result"
    }
   ],
   "source": [
    "data = DataFrame(\n",
    "    gender = [\"Male\", \"Male\", \"Male\", \"Male\", \"Female\", \"Female\", \"Female\", \"Female\"],\n",
    "    high_ed = [\"Never finished high school\", \"High school\", \"College\", \"Graduate school\", \"Never finished high school\", \"High school\", \"College\", \"Graduate school\"],\n",
    "    freq = [112, 231, 595, 242, 136, 189, 763, 172]\n",
    ")\n",
    "\n",
    "first(data, 5)"
   ]
  },
  {
   "cell_type": "markdown",
   "metadata": {},
   "source": [
    "## (a) P(High School)"
   ]
  },
  {
   "cell_type": "code",
   "execution_count": 29,
   "metadata": {},
   "outputs": [],
   "source": [
    "total_students = data[:freq] |> sum\n",
    "\n",
    "total_highschool = data |>\n",
    "    @filter(_.high_ed == \"High school\") |>\n",
    "    @select(:freq) |>\n",
    "    DataFrame |>\n",
    "    Array |>\n",
    "    sum\n",
    "\n",
    ";"
   ]
  },
  {
   "cell_type": "code",
   "execution_count": 47,
   "metadata": {},
   "outputs": [
    {
     "data": {
      "text/plain": [
       "0.1721311475409836"
      ]
     },
     "execution_count": 47,
     "metadata": {},
     "output_type": "execute_result"
    }
   ],
   "source": [
    "high_school = total_highschool/total_students"
   ]
  },
  {
   "cell_type": "markdown",
   "metadata": {},
   "source": [
    "## (b) P(High School or Female)"
   ]
  },
  {
   "cell_type": "code",
   "execution_count": 48,
   "metadata": {},
   "outputs": [
    {
     "data": {
      "text/plain": [
       "0.6110655737704918"
      ]
     },
     "execution_count": 48,
     "metadata": {},
     "output_type": "execute_result"
    }
   ],
   "source": [
    "high_shool_or_female = data |>\n",
    "    @filter(_.gender == \"Female\" || (_.gender == \"Male\" && _.high_ed == \"High school\")) |>\n",
    "    @select(:freq) |>\n",
    "    DataFrame |>\n",
    "    Matrix |>\n",
    "    sum\n",
    "\n",
    "high_shool_or_female = high_shool_or_female/total_students"
   ]
  },
  {
   "cell_type": "markdown",
   "metadata": {},
   "source": [
    "## (c) P(High School | Female)"
   ]
  },
  {
   "cell_type": "code",
   "execution_count": 51,
   "metadata": {},
   "outputs": [
    {
     "data": {
      "text/plain": [
       "0.15"
      ]
     },
     "execution_count": 51,
     "metadata": {},
     "output_type": "execute_result"
    }
   ],
   "source": [
    "high_school_and_female = data |>\n",
    "    @filter(_.gender == \"Female\" && _.high_ed == \"High school\") |>\n",
    "    @select(:freq) |>\n",
    "    DataFrame |>\n",
    "    Matrix |>\n",
    "    sum\n",
    "\n",
    "female = data |>\n",
    "    @filter(_.gender == \"Female\") |>\n",
    "    @select(:freq) |>\n",
    "    DataFrame |>\n",
    "    Matrix |>\n",
    "    sum\n",
    "\n",
    "high_school_given_female = high_school_and_female/female"
   ]
  },
  {
   "cell_type": "markdown",
   "metadata": {},
   "source": [
    "## (d) P(Female | High School)"
   ]
  },
  {
   "cell_type": "code",
   "execution_count": 55,
   "metadata": {},
   "outputs": [
    {
     "data": {
      "text/plain": [
       "0.45"
      ]
     },
     "execution_count": 55,
     "metadata": {},
     "output_type": "execute_result"
    }
   ],
   "source": [
    "female_given_high_school = high_school_and_female/total_highschool"
   ]
  }
 ],
 "metadata": {
  "kernelspec": {
   "display_name": "Julia 1.5.2",
   "language": "julia",
   "name": "julia-1.5"
  },
  "language_info": {
   "file_extension": ".jl",
   "mimetype": "application/julia",
   "name": "julia",
   "version": "1.5.2"
  }
 },
 "nbformat": 4,
 "nbformat_minor": 4
}
