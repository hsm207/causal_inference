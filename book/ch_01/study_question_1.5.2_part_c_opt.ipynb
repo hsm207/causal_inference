{
 "cells": [
  {
   "cell_type": "markdown",
   "metadata": {},
   "source": [
    "# Introduction"
   ]
  },
  {
   "cell_type": "markdown",
   "metadata": {},
   "source": [
    "This notebook is the workings for part (c) of the [Study Question 1.5.2](study_question_1.5.2.ipynb#(c)) notebook."
   ]
  },
  {
   "cell_type": "markdown",
   "metadata": {},
   "source": [
    "# Packages"
   ]
  },
  {
   "cell_type": "code",
   "execution_count": 1,
   "metadata": {},
   "outputs": [],
   "source": [
    "using JuMP, Ipopt"
   ]
  },
  {
   "cell_type": "markdown",
   "metadata": {},
   "source": [
    "# Solution"
   ]
  },
  {
   "cell_type": "markdown",
   "metadata": {},
   "source": [
    "Define the problem:"
   ]
  },
  {
   "cell_type": "code",
   "execution_count": 2,
   "metadata": {},
   "outputs": [
    {
     "data": {
      "text/latex": [
       "$$ \\begin{alignat*}{1}\\max\\quad & obj_fn(p₁, p₂, p₃, p₄, q₁, q₂, r)\\\\\n",
       "\\text{Subject to} \\quad & -p₃ + p₄ \\leq -0.1\\\\\n",
       " & -p₁ + p₂ \\leq -0.1\\\\\n",
       " & p₁ \\geq 0.0\\\\\n",
       " & p₂ \\geq 0.0\\\\\n",
       " & p₃ \\geq 0.0\\\\\n",
       " & p₄ \\geq 0.0\\\\\n",
       " & q₁ \\geq 0.5\\\\\n",
       " & q₂ \\geq 0.0\\\\\n",
       " & r \\geq 0.0\\\\\n",
       " & p₁ \\leq 1.0\\\\\n",
       " & p₂ \\leq 1.0\\\\\n",
       " & p₃ \\leq 1.0\\\\\n",
       " & p₄ \\leq 1.0\\\\\n",
       " & q₁ \\leq 1.0\\\\\n",
       " & q₂ \\leq 0.5\\\\\n",
       " & r \\leq 0.2\\\\\n",
       "\\end{alignat*}\n",
       " $$"
      ],
      "text/plain": [
       "A JuMP Model\n",
       "Maximization problem with:\n",
       "Variables: 7\n",
       "Objective function type: Nonlinear\n",
       "`GenericAffExpr{Float64,VariableRef}`-in-`MathOptInterface.LessThan{Float64}`: 2 constraints\n",
       "`VariableRef`-in-`MathOptInterface.GreaterThan{Float64}`: 7 constraints\n",
       "`VariableRef`-in-`MathOptInterface.LessThan{Float64}`: 7 constraints\n",
       "Model mode: AUTOMATIC\n",
       "CachingOptimizer state: EMPTY_OPTIMIZER\n",
       "Solver name: Ipopt\n",
       "Names registered in the model: p₁, p₂, p₃, p₄, q₁, q₂, r"
      ]
     },
     "execution_count": 2,
     "metadata": {},
     "output_type": "execute_result"
    }
   ],
   "source": [
    "model = Model(Ipopt.Optimizer)\n",
    "\n",
    "# all the parameters are probabilities\n",
    "@variable(model, 0 <= p₁ <= 1)\n",
    "@variable(model, 0 <= p₂ <= 1)\n",
    "@variable(model, 0 <= p₃ <= 1)\n",
    "@variable(model, 0 <= p₄ <= 1)\n",
    "\n",
    "@variable(model, 0.5 <= q₁ <= 1) # very likely to take treatment if no syndrome\n",
    "@variable(model, 0 <= q₂ <= 0.5) # less likely to take treament if have syndrome\n",
    "\n",
    "@variable(model, 0 <= r <= 0.2) # assume only small fraction of population have the syndrome\n",
    "\n",
    "# we want the subpopulation to show bad results\n",
    "@constraint(model, p₄ - p₃ <= -0.1) # b(i) constraint to see big negative effect\n",
    "@constraint(model, p₂ - p₁ <= -0.1) # b(ii) constraint to see big negative effect\n",
    "# @constraint(model, p₄ - p₃  == p₂ - p₁) # b(ii) constraint\n",
    "\n",
    "\n",
    "# objective function is the b(iii)\n",
    "# we want to maximize this\n",
    "obj_fn(p₁, p₂, p₃, p₄, q₁, q₂, r) = begin\n",
    "    term1 = (q₁ * p₂ * (1-r) + q₂ * p₄ * r)/(-q₁ * r + q₂ * r + q₁)\n",
    "    term2 = ((1 - q₁) * p₁ * (1-r) + (1-q₂) * p₃ * r)/(q₁ * r - q₂ * r - q₁ + 1)\n",
    "    \n",
    "    term1 - term2\n",
    "end\n",
    "\n",
    "register(model, :obj_fn, 7, obj_fn, autodiff=true)\n",
    "@NLobjective(model, Max, obj_fn(p₁, p₂, p₃, p₄, q₁, q₂, r))\n",
    "\n",
    "model"
   ]
  },
  {
   "cell_type": "markdown",
   "metadata": {},
   "source": [
    "Find the solution (if any):"
   ]
  },
  {
   "cell_type": "code",
   "execution_count": null,
   "metadata": {},
   "outputs": [],
   "source": [
    "optimize!(model)"
   ]
  },
  {
   "cell_type": "markdown",
   "metadata": {},
   "source": [
    "Show the solution:"
   ]
  },
  {
   "cell_type": "code",
   "execution_count": null,
   "metadata": {},
   "outputs": [],
   "source": [
    "@show objective_value(model)\n",
    "\n",
    "@show value(p₁)\n",
    "@show value(p₂)\n",
    "@show value(p₃)\n",
    "@show value(p₄)\n",
    "@show value(q₁)\n",
    "@show value(q₂)\n",
    "@show value(r)\n",
    ";"
   ]
  }
 ],
 "metadata": {
  "kernelspec": {
   "display_name": "Julia 1.5.2",
   "language": "julia",
   "name": "julia-1.5"
  },
  "language_info": {
   "file_extension": ".jl",
   "mimetype": "application/julia",
   "name": "julia",
   "version": "1.5.2"
  }
 },
 "nbformat": 4,
 "nbformat_minor": 4
}
