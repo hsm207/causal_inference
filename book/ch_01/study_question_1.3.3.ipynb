{
 "cells": [
  {
   "cell_type": "markdown",
   "metadata": {},
   "source": [
    "# Packages"
   ]
  },
  {
   "cell_type": "code",
   "execution_count": 7,
   "metadata": {},
   "outputs": [],
   "source": [
    "using Statistics"
   ]
  },
  {
   "cell_type": "markdown",
   "metadata": {},
   "source": [
    "# Question"
   ]
  },
  {
   "cell_type": "markdown",
   "metadata": {},
   "source": [
    "<img src=\"https://i.ibb.co/Jpf9dw1/q-1-3-3.png\" alt=\"q-1-3-3\" border=\"0\">"
   ]
  },
  {
   "cell_type": "markdown",
   "metadata": {},
   "source": [
    "Note:\n",
    "\n",
    "* Craps is a game in which gamblers bet on the sum of a roll of two dice\n",
    "* Assume [American roulette](https://www.roulettesites.org/rules/wheel-table/), hence 38 outcomes. "
   ]
  },
  {
   "cell_type": "markdown",
   "metadata": {},
   "source": [
    "# Answer"
   ]
  },
  {
   "cell_type": "markdown",
   "metadata": {},
   "source": [
    "## (a)"
   ]
  },
  {
   "cell_type": "markdown",
   "metadata": {},
   "source": [
    "P(craps|11) = P(craps and 11)/P(11)\n",
    "\n",
    "P(craps and 11) = P(11|craps) P(craps)\n",
    "\n",
    "P(11) = P(11 and craps) + P(11 and roulette) = P(11|craps) P(craps) + P(11|roulette) P(roulette)\n",
    "\n",
    "x + 2x = 1 => x = 1/3"
   ]
  },
  {
   "cell_type": "code",
   "execution_count": 22,
   "metadata": {},
   "outputs": [],
   "source": [
    "craps_rolls = [d1 + d2 for d2 in range(1, length=6) for d1 in range(1, length=6)]\n",
    "\n",
    "p_11_given_craps = mean(craps_rolls .== 11)\n",
    "p_11_given_roulette = 1/38;"
   ]
  },
  {
   "cell_type": "code",
   "execution_count": 23,
   "metadata": {},
   "outputs": [],
   "source": [
    "p_craps = 1/3\n",
    "p_routtle = 2 * p_craps;"
   ]
  },
  {
   "cell_type": "code",
   "execution_count": 27,
   "metadata": {},
   "outputs": [
    {
     "data": {
      "text/plain": [
       "0.5135135135135135"
      ]
     },
     "execution_count": 27,
     "metadata": {},
     "output_type": "execute_result"
    }
   ],
   "source": [
    "p_11 = p_11_given_craps * p_craps + p_11_given_roulette * p_routtle\n",
    "\n",
    "p_craps_given_11 = (p_11_given_craps * p_craps)/p_11"
   ]
  },
  {
   "cell_type": "markdown",
   "metadata": {},
   "source": [
    "## (b)"
   ]
  },
  {
   "cell_type": "code",
   "execution_count": 39,
   "metadata": {},
   "outputs": [],
   "source": [
    "p_10_given_craps = mean(craps_rolls .== 10)\n",
    "p_10_given_roulette = 1/38.;"
   ]
  },
  {
   "cell_type": "code",
   "execution_count": 36,
   "metadata": {},
   "outputs": [],
   "source": [
    "p_roulette = 1/3\n",
    "p_craps = 2 * p_roulette;"
   ]
  },
  {
   "cell_type": "code",
   "execution_count": 37,
   "metadata": {},
   "outputs": [],
   "source": [
    "p_10 = p_10_given_craps * p_craps + p_10_given_routlette * p_roulette;"
   ]
  },
  {
   "cell_type": "code",
   "execution_count": 38,
   "metadata": {},
   "outputs": [
    {
     "data": {
      "text/plain": [
       "0.13636363636363635"
      ]
     },
     "execution_count": 38,
     "metadata": {},
     "output_type": "execute_result"
    }
   ],
   "source": [
    "p_roulette_given_10 = (p_10_given_roulette * p_roulette)/p_10"
   ]
  }
 ],
 "metadata": {
  "kernelspec": {
   "display_name": "Julia 1.5.2",
   "language": "julia",
   "name": "julia-1.5"
  },
  "language_info": {
   "file_extension": ".jl",
   "mimetype": "application/julia",
   "name": "julia",
   "version": "1.5.2"
  }
 },
 "nbformat": 4,
 "nbformat_minor": 4
}
